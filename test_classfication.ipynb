{
 "cells": [
  {
   "cell_type": "code",
   "execution_count": 1,
   "metadata": {},
   "outputs": [],
   "source": [
    "\"\"\"\n",
    "#################################\n",
    " Classification after training the Model, modules and methods in this file evaluate the performance of the trained\n",
    " model over the test dataset\n",
    " Test Data: Item (8) on https://ieee-dataport.org/open-access/flame-dataset-aerial-imagery-pile-burn-detection-using-drones-uavs \n",
    " Tensorflow Version: 2.3.0\n",
    " GPU: Nvidia RTX 2080 Ti\n",
    " OS: Ubuntu 18.04\n",
    "################################\n",
    "\"\"\"\n",
    "#########################################################\n",
    "# import libraries\n",
    "\n",
    "import numpy as np\n",
    "import tensorflow as tf\n",
    "from tensorflow.keras.models import load_model\n",
    "\n",
    "from plotdata import plot_confusion_matrix\n",
    "from config import Config_classification\n",
    "from config import new_size\n",
    "\n",
    "batch_size = Config_classification.get('batch_size')\n",
    "image_size = (new_size.get('width'), new_size.get('height'))\n",
    "epochs = Config_classification.get('Epochs')"
   ]
  },
  {
   "cell_type": "code",
   "execution_count": 8,
   "metadata": {},
   "outputs": [
    {
     "name": "stdout",
     "output_type": "stream",
     "text": [
      "Found 8617 files belonging to 2 classes.\n",
      "270/270 [==============================] - 12s 38ms/step - loss: 1.0882 - tp: 2618.0000 - fp: 1792.0000 - tn: 3345.0000 - fn: 862.0000 - bin_accuracy: 0.6920 - precision: 0.5937 - recall: 0.7523 - auc: 0.7373\n",
      "270/270 [==============================] - 9s 30ms/step - loss: 1.0434 - tp: 1718.0000 - fp: 897.0000 - tn: 4240.0000 - fn: 1762.0000 - bin_accuracy: 0.6914 - precision: 0.6570 - recall: 0.4937 - auc: 0.7859\n",
      "loss :  1.0433512926101685\n",
      "tp :  1718.0\n",
      "fp :  897.0\n",
      "tn :  4240.0\n",
      "fn :  1762.0\n",
      "bin_accuracy :  0.6914239525794983\n",
      "precision :  0.656978964805603\n",
      "recall :  0.49367815256118774\n",
      "auc :  0.7859232425689697\n",
      "\n"
     ]
    }
   ],
   "source": [
    "test_ds = tf.keras.preprocessing.image_dataset_from_directory(\n",
    "        \"frames/Test\", seed=1337, image_size=image_size, batch_size=batch_size, shuffle=True\n",
    "    )\n",
    "\n",
    "model_fire = load_model('Output/Models/model_fire_resnet_weighted_40_no_metric_simple')\n",
    "\n",
    "_ = model_fire.evaluate(test_ds, batch_size=batch_size)\n",
    "\n",
    "best_model_fire = load_model('Output/Models/h5model/keras/save_at_36_1.h5')\n",
    "results_eval = best_model_fire.evaluate(test_ds, batch_size=batch_size)\n",
    "\n",
    "for name, value in zip(model_fire.metrics_names, results_eval):\n",
    "     print(name, ': ', value)\n",
    "print()\n",
    "\n"
   ]
  },
  {
   "cell_type": "code",
   "execution_count": 9,
   "metadata": {},
   "outputs": [
    {
     "data": {
      "text/plain": [
       "0.665891472868217"
      ]
     },
     "execution_count": 9,
     "metadata": {},
     "output_type": "execute_result"
    }
   ],
   "source": [
    "(1718.0)/(862+1718.0)##recall should be high "
   ]
  },
  {
   "cell_type": "code",
   "execution_count": 10,
   "metadata": {},
   "outputs": [
    {
     "data": {
      "text/plain": [
       "0.4894586894586895"
      ]
     },
     "execution_count": 10,
     "metadata": {},
     "output_type": "execute_result"
    }
   ],
   "source": [
    "(1718)/(1718+1792) ##precision should be low "
   ]
  },
  {
   "cell_type": "code",
   "execution_count": 29,
   "metadata": {},
   "outputs": [
    {
     "data": {
      "text/plain": [
       "1.136291742324829"
      ]
     },
     "execution_count": 29,
     "metadata": {},
     "output_type": "execute_result"
    }
   ],
   "source": [
    "run.log('loss_best_model',results_eval[0])\n",
    "run.log('accuracy_best_model',results_eval[1])\n",
    "run.log('loss_base_model',_[0])\n",
    "run.log('accuracy_base_model',_[1])"
   ]
  },
  {
   "cell_type": "code",
   "execution_count": null,
   "metadata": {},
   "outputs": [],
   "source": [
    "cm = np.array([[results_eval[1], results_eval[4]], [results_eval[2], results_eval[3]]])\n",
    "cm_plot_labels = ['Fire', 'No Fire']\n",
    "plot_confusion_matrix(cm=cm, classes=cm_plot_labels, title='Confusion Matrix')\n",
    "\n",
    "model_file = 'Output/Models/h5model/Keras_not_weighted_40_no_metric_simple/save_at_%d.h5' % 37\n",
    "model_fire = load_model(model_file)\n",
    "test_fire_ds = tf.keras.preprocessing.image_dataset_from_directory(\n",
    "    \"frames/confusion_test/Fire_test\", seed=1337, image_size=image_size, batch_size=batch_size, shuffle=True)\n",
    "test_no_fire_ds = tf.keras.preprocessing.image_dataset_from_directory(\n",
    "        \"frames/confusion_test/No_Fire_test\", seed=1337, image_size=image_size, batch_size=batch_size, shuffle=True)\n",
    "fire_eval = model_fire.evaluate(test_fire_ds)\n",
    "no_fire_eval = model_fire.evaluate(test_no_fire_ds)\n",
    "true_fire = len(tf.io.gfile.listdir(\"frames/confusion_test/Fire_test/Fire\"))\n",
    "true_no_fire = len(tf.io.gfile.listdir(\"frames/confusion_test/No_Fire_test/No_Fire\"))\n",
    "tp = fire_eval[1] * true_fire\n",
    "fp = (1 - fire_eval[1]) * true_fire\n",
    "tn = (1 - no_fire_eval[1]) * true_no_fire\n",
    "fn = no_fire_eval[1] * true_no_fire\n",
    "cm = np.array([[tp, fn], [fp, tn]], dtype=int)\n",
    "plot_confusion_matrix(cm=cm, classes=cm_plot_labels, title='Confusion Matrix')"
   ]
  },
  {
   "cell_type": "code",
   "execution_count": 14,
   "metadata": {},
   "outputs": [
    {
     "name": "stdout",
     "output_type": "stream",
     "text": [
      "Found 8617 files belonging to 2 classes.\n",
      "\u001b[1m270/270\u001b[0m \u001b[32m━━━━━━━━━━━━━━━━━━━━\u001b[0m\u001b[37m\u001b[0m \u001b[1m53s\u001b[0m 194ms/step - accuracy: 0.6074 - loss: 1.8881\n",
      "\u001b[1m270/270\u001b[0m \u001b[32m━━━━━━━━━━━━━━━━━━━━\u001b[0m\u001b[37m\u001b[0m \u001b[1m52s\u001b[0m 194ms/step - accuracy: 0.6047 - loss: 1.8999\n",
      "loss :  1.9286290407180786\n",
      "compile_metrics :  0.6061274409294128\n"
     ]
    }
   ],
   "source": [
    "#########################################################\n",
    "# Import libraries\n",
    "import numpy as np\n",
    "import tensorflow as tf\n",
    "from tensorflow.keras.models import load_model\n",
    "\n",
    "from plotdata import plot_confusion_matrix\n",
    "from config import Config_classification\n",
    "from config import new_size\n",
    "\n",
    "# Configurations\n",
    "batch_size = Config_classification.get('batch_size')\n",
    "image_size = (new_size.get('width'), new_size.get('height'))\n",
    "epochs = 3\n",
    "\n",
    "# Load the test dataset\n",
    "test_ds = tf.keras.preprocessing.image_dataset_from_directory(\n",
    "    \"frames/Test\", seed=1337, image_size=image_size, batch_size=batch_size, shuffle=True\n",
    ")\n",
    "\n",
    "# Load your saved model (final_model.keras)\n",
    "model_fire = load_model('final_model.keras')\n",
    "\n",
    "# Evaluate the model on the test dataset\n",
    "_ = model_fire.evaluate(test_ds, batch_size=batch_size)\n",
    "\n",
    "# Optionally, evaluate another model if you have multiple models saved\n",
    "# Uncomment if you wish to evaluate a different saved model\n",
    "# best_model_fire = load_model('Output/Models/h5model/keras/save_at_27.h5')\n",
    "# results_eval = best_model_fire.evaluate(test_ds, batch_size=batch_size)\n",
    "\n",
    "# Display evaluation metrics\n",
    "results_eval = model_fire.evaluate(test_ds, batch_size=batch_size)\n",
    "for name, value in zip(model_fire.metrics_names, results_eval):\n",
    "    print(name, ': ', value)\n",
    "\n",
    "\n"
   ]
  },
  {
   "cell_type": "code",
   "execution_count": 1,
   "metadata": {},
   "outputs": [
    {
     "name": "stdout",
     "output_type": "stream",
     "text": [
      "Num GPUs Available:  0\n"
     ]
    }
   ],
   "source": [
    "import tensorflow as tf\n",
    "print(\"Num GPUs Available: \", len(tf.config.list_physical_devices('GPU')))\n"
   ]
  },
  {
   "cell_type": "code",
   "execution_count": 12,
   "metadata": {},
   "outputs": [
    {
     "name": "stdout",
     "output_type": "stream",
     "text": [
      "\u001b[1m270/270\u001b[0m \u001b[32m━━━━━━━━━━━━━━━━━━━━\u001b[0m\u001b[37m\u001b[0m \u001b[1m89s\u001b[0m 329ms/step\n"
     ]
    },
    {
     "data": {
      "image/png": "[encoded data removed]",
      "text/plain": [
       "<Figure size 640x480 with 2 Axes>"
      ]
     },
     "metadata": {},
     "output_type": "display_data"
    }
   ],
   "source": [
    "from sklearn.metrics import confusion_matrix\n",
    "import numpy as np\n",
    "import matplotlib.pyplot as plt\n",
    "\n",
    "# Assuming cm_plot_labels are ['Fire', 'No Fire']\n",
    "\n",
    "# Get the true labels from the test dataset\n",
    "y_true = np.concatenate([y for x, y in test_ds], axis=0)\n",
    "\n",
    "# Get predictions from the model\n",
    "y_pred = model_fire.predict(test_ds)\n",
    "y_pred_labels = np.where(y_pred > 0.5, 1, 0)  # Convert probabilities to binary labels\n",
    "\n",
    "# Calculate confusion matrix\n",
    "cm = confusion_matrix(y_true, y_pred_labels)\n",
    "\n",
    "# Function to plot confusion matrix\n",
    "def plot_confusion_matrix(cm, classes, title='Confusion matrix', cmap=plt.cm.Blues):\n",
    "    plt.imshow(cm, interpolation='nearest', cmap=cmap)\n",
    "    plt.title(title)\n",
    "    plt.colorbar()\n",
    "    tick_marks = np.arange(len(classes))\n",
    "    plt.xticks(tick_marks, classes, rotation=45)\n",
    "    plt.yticks(tick_marks, classes)\n",
    "\n",
    "    fmt = 'd'\n",
    "    thresh = cm.max() / 2.\n",
    "    for i, j in np.ndindex(cm.shape):\n",
    "        plt.text(j, i, format(cm[i, j], fmt),\n",
    "                 ha=\"center\", va=\"center\",\n",
    "                 color=\"white\" if cm[i, j] > thresh else \"black\")\n",
    "\n",
    "    plt.tight_layout()\n",
    "    plt.ylabel('True label')\n",
    "    plt.xlabel('Predicted label')\n",
    "\n",
    "# Plot the confusion matrix\n",
    "cm_plot_labels = ['Fire', 'No Fire']\n",
    "plot_confusion_matrix(cm=cm, classes=cm_plot_labels, title='Confusion Matrix')\n",
    "plt.show()\n"
   ]
  }
 ],
 "metadata": {
  "kernelspec": {
   "display_name": "fire-detection2",
   "language": "python",
   "name": "python3"
  },
  "language_info": {
   "codemirror_mode": {
    "name": "ipython",
    "version": 3
   },
   "file_extension": ".py",
   "mimetype": "text/x-python",
   "name": "python",
   "nbconvert_exporter": "python",
   "pygments_lexer": "ipython3",
   "version": "3.10.14"
  }
 },
 "nbformat": 4,
 "nbformat_minor": 2
}
